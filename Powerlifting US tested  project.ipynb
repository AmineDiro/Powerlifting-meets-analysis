{
 "cells": [
  {
   "cell_type": "code",
   "execution_count": 1,
   "metadata": {},
   "outputs": [],
   "source": [
    "import pandas as pd\n",
    "import numpy as np\n",
    "import matplotlib.pyplot as plt\n",
    "import seaborn as sns\n",
    "\n",
    "sns.set_style('whitegrid')\n",
    "%matplotlib inline"
   ]
  },
  {
   "cell_type": "code",
   "execution_count": 3,
   "metadata": {},
   "outputs": [],
   "source": [
    "df = pd.read_csv('openpowerlifting.csv',low_memory=False)"
   ]
  },
  {
   "cell_type": "markdown",
   "metadata": {},
   "source": [
    "## Project : \n",
    "**Hypothesis:** Trying to see if there is a statistically signficant test in progression rate between older and younger people"
   ]
  },
  {
   "cell_type": "code",
   "execution_count": 4,
   "metadata": {},
   "outputs": [],
   "source": [
    "df_new=df[df['MeetCountry']=='USA']\n",
    "df_new=df[df['Equipment']=='Raw']\n",
    "df_new=df[df['Tested']=='Yes'] #could have used & but tried to separate :)\n",
    "\n",
    "df_new=df_new.sort_values('Date')[['Name','Sex','Equipment','Age','TotalKg','Date','Best3SquatKg','Best3BenchKg','Best3DeadliftKg']].dropna()\n",
    "\n",
    "#Select names appearn in at least 3 meets\n",
    "names =df_new['Name'].value_counts()[df_new['Name'].value_counts()>2].index.tolist()\n",
    "df_new=df_new[df_new['Name'].isin(names)]\n",
    "\n",
    "#Change the date to timestamp to calculate the diff \n",
    "df_new['Date']=pd.to_datetime(df_new['Date'])"
   ]
  },
  {
   "cell_type": "code",
   "execution_count": 5,
   "metadata": {},
   "outputs": [
    {
     "name": "stderr",
     "output_type": "stream",
     "text": [
      "C:\\Users\\PADS08191\\AppData\\Local\\Continuum\\anaconda3\\lib\\site-packages\\ipykernel_launcher.py:8: RuntimeWarning: divide by zero encountered in double_scalars\n",
      "  \n",
      "C:\\Users\\PADS08191\\AppData\\Local\\Continuum\\anaconda3\\lib\\site-packages\\ipykernel_launcher.py:8: RuntimeWarning: invalid value encountered in double_scalars\n",
      "  \n"
     ]
    },
    {
     "data": {
      "text/html": [
       "<div>\n",
       "<style scoped>\n",
       "    .dataframe tbody tr th:only-of-type {\n",
       "        vertical-align: middle;\n",
       "    }\n",
       "\n",
       "    .dataframe tbody tr th {\n",
       "        vertical-align: top;\n",
       "    }\n",
       "\n",
       "    .dataframe thead th {\n",
       "        text-align: right;\n",
       "    }\n",
       "</style>\n",
       "<table border=\"1\" class=\"dataframe\">\n",
       "  <thead>\n",
       "    <tr style=\"text-align: right;\">\n",
       "      <th></th>\n",
       "      <th>progression</th>\n",
       "      <th>Cat</th>\n",
       "    </tr>\n",
       "    <tr>\n",
       "      <th>Name</th>\n",
       "      <th></th>\n",
       "      <th></th>\n",
       "    </tr>\n",
       "  </thead>\n",
       "  <tbody>\n",
       "    <tr>\n",
       "      <th>A. Gonzales</th>\n",
       "      <td>0.153159</td>\n",
       "      <td>30y++</td>\n",
       "    </tr>\n",
       "    <tr>\n",
       "      <th>A. Green</th>\n",
       "      <td>0.210472</td>\n",
       "      <td>30y++</td>\n",
       "    </tr>\n",
       "    <tr>\n",
       "      <th>AJ Halbach</th>\n",
       "      <td>0.013130</td>\n",
       "      <td>30y++</td>\n",
       "    </tr>\n",
       "    <tr>\n",
       "      <th>Aaron Bate</th>\n",
       "      <td>0.027174</td>\n",
       "      <td>30y++</td>\n",
       "    </tr>\n",
       "    <tr>\n",
       "      <th>Aaron Ecton</th>\n",
       "      <td>0.018107</td>\n",
       "      <td>30y++</td>\n",
       "    </tr>\n",
       "  </tbody>\n",
       "</table>\n",
       "</div>"
      ],
      "text/plain": [
       "             progression    Cat\n",
       "Name                           \n",
       "A. Gonzales     0.153159  30y++\n",
       "A. Green        0.210472  30y++\n",
       "AJ Halbach      0.013130  30y++\n",
       "Aaron Bate      0.027174  30y++\n",
       "Aaron Ecton     0.018107  30y++"
      ]
     },
     "execution_count": 5,
     "metadata": {},
     "output_type": "execute_result"
    }
   ],
   "source": [
    "#Function thats reflects an average progression of a lifter \n",
    "\n",
    "def progression(test):\n",
    "    max= test['TotalKg'].max()\n",
    "    min= test['TotalKg'].min()\n",
    "    diffKg = max-min \n",
    "    temps_delta = test.loc[test[\"TotalKg\"].idxmax()]['Date']-test.loc[test[\"TotalKg\"].idxmin()]['Date']\n",
    "    return diffKg/float(temps_delta.days)\n",
    "\n",
    "#Separate by two groups under 30 and plus30, then calculating the progression by days\n",
    "df_p30=df_new[df_new['Age']>=30]\n",
    "df_u30=df_new[df_new['Age']<30]\n",
    "\n",
    "p_u30=df_u30.groupby('Name').apply(progression)\n",
    "p_p30=df_p30.groupby('Name').apply(progression)\n",
    "\n",
    "#Dropping negative values and infinite (which means they regressed in every meet after the first)\n",
    "p_p30 = p_p30.where(p_p30>0)\n",
    "p_u30 = p_u30.where(p_u30>0)\n",
    "p_p30=p_p30.replace([np.inf, -np.inf], np.nan).dropna()\n",
    "p_u30=p_u30.replace([np.inf, -np.inf], np.nan).dropna()\n",
    "\n",
    "#Putting them in one dataframe\n",
    "p_p30=p_p30.to_frame()\n",
    "p_u30=p_u30.to_frame()\n",
    "p_p30['Cat'] ='30y++'\n",
    "p_u30['Cat'] ='30y--'\n",
    "\n",
    "#The result Dataframe\n",
    "result=pd.concat([p_p30,p_u30])\n",
    "result.rename(columns={0:'progression'},inplace=True)\n",
    "result.head()"
   ]
  },
  {
   "cell_type": "code",
   "execution_count": 6,
   "metadata": {},
   "outputs": [
    {
     "data": {
      "text/plain": [
       "<matplotlib.axes._subplots.AxesSubplot at 0x2c6070d6828>"
      ]
     },
     "execution_count": 6,
     "metadata": {},
     "output_type": "execute_result"
    },
    {
     "data": {
      "image/png": "[encoded data removed]",
      "text/plain": [
       "<Figure size 432x288 with 1 Axes>"
      ]
     },
     "metadata": {
      "needs_background": "light"
     },
     "output_type": "display_data"
    }
   ],
   "source": [
    "#Plotting directly without removing outliers\n",
    "sns.violinplot(x='Cat',y='progression',data=result,scale='count',cut=0)"
   ]
  },
  {
   "cell_type": "markdown",
   "metadata": {},
   "source": [
    "We see that we need to delete the outliers to have a better look at the data."
   ]
  },
  {
   "cell_type": "code",
   "execution_count": 9,
   "metadata": {},
   "outputs": [],
   "source": [
    "def remove_outlier(df_in, col_name):\n",
    "    q1 = df_in[col_name].quantile(0.25)\n",
    "    q3 = df_in[col_name].quantile(0.75)\n",
    "    iqr = q3-q1 #Interquartile range\n",
    "    fence_low  = q1-1.5*iqr\n",
    "    fence_high = q3+1.5*iqr\n",
    "    df_out = df_in.loc[(df_in[col_name] > fence_low) & (df_in[col_name] < fence_high)]\n",
    "    return df_out\n",
    "\n",
    "outlier = remove_outlier(result,'progression')\n",
    "\n",
    "pmean=round(float(outlier[outlier['Cat']=='30y++'].mean().values),2)\n",
    "umean=round(float(outlier[outlier['Cat']=='30y--'].mean().values),2)"
   ]
  },
  {
   "cell_type": "code",
   "execution_count": 39,
   "metadata": {
    "scrolled": true
   },
   "outputs": [
    {
     "data": {
      "text/plain": [
       "<matplotlib.axes._subplots.AxesSubplot at 0x2c60cc1e940>"
      ]
     },
     "execution_count": 39,
     "metadata": {},
     "output_type": "execute_result"
    },
    {
     "data": {
      "image/png": "[encoded data removed]",
      "text/plain": [
       "<Figure size 864x576 with 1 Axes>"
      ]
     },
     "metadata": {
      "needs_background": "light"
     },
     "output_type": "display_data"
    }
   ],
   "source": [
    "plt.figure(figsize=(12,8))\n",
    "plt.title('Comparing average progression of powerlifters under and post 30 years',{'fontsize':16})\n",
    "sns.despine(bottom =True,left=True)\n",
    "#sns_plot=sns.boxplot(x='Cat',y='progression',data=outlier)\n",
    "sns.violinplot(x='Cat',y='progression',data=outlier,scale='count',cut=0)"
   ]
  },
  {
   "cell_type": "markdown",
   "metadata": {},
   "source": [
    "## Is the a statistical difference btw the means of the two groups ? p< 5% "
   ]
  },
  {
   "cell_type": "code",
   "execution_count": 40,
   "metadata": {},
   "outputs": [],
   "source": [
    "values_u30=outlier[outlier['Cat']=='30y--'].iloc[:,0].values\n",
    "values_p30=outlier[outlier['Cat']=='30y++'].iloc[:,0].values"
   ]
  },
  {
   "cell_type": "code",
   "execution_count": 44,
   "metadata": {},
   "outputs": [
    {
     "name": "stdout",
     "output_type": "stream",
     "text": [
      "values_u30 mean value: 0.14312392346528213\n",
      "values_p30 mean value: 0.10563437997303354\n",
      "values_u30 std value: 0.08231050243478406\n",
      "values_p30 std value: 0.07861348963943036\n",
      "p-value 1.0514056404451937e-262\n",
      "we reject  the null hypothesis\n"
     ]
    }
   ],
   "source": [
    "from scipy.stats import ttest_ind\n",
    "\n",
    "values_u30_mean = np.mean(values_u30)\n",
    "values_p30_mean = np.mean(values_p30)\n",
    "print(\"values_u30 mean value:\",values_u30_mean)\n",
    "print(\"values_p30 mean value:\",values_p30_mean)\n",
    "\n",
    "values_u30_std = np.std(values_u30)\n",
    "values_p30_std = np.std(values_p30)\n",
    "print(\"values_u30 std value:\",values_u30_std)\n",
    "print(\"values_p30 std value:\",values_p30_std)\n",
    "\n",
    "\n",
    "ttest,pval = ttest_ind(values_p30,values_u30)\n",
    "print(\"p-value\",pval)\n",
    "if pval <0.05:\n",
    "  print(\"we reject  the null hypothesis\")\n",
    "else:\n",
    "  print(\"we accept null hypothesis\")"
   ]
  },
  {
   "cell_type": "markdown",
   "metadata": {},
   "source": [
    "# Result : "
   ]
  },
  {
   "cell_type": "markdown",
   "metadata": {},
   "source": [
    "We can clearly see that tere is a statistical difference between the two means. Age has clearly an effect on the progression.\n",
    "\n",
    "A little caveat is that there is more outliers in the older populations than their younger peers. A more indepth analysis of the data may give us some insight of why ? maybe the training age has an effect on the progression ie: an older powerlifter who has just started may get the same 'gainz' as a younger one ... "
   ]
  }
 ],
 "metadata": {
  "kernelspec": {
   "display_name": "Python 3",
   "language": "python",
   "name": "python3"
  },
  "language_info": {
   "codemirror_mode": {
    "name": "ipython",
    "version": 3
   },
   "file_extension": ".py",
   "mimetype": "text/x-python",
   "name": "python",
   "nbconvert_exporter": "python",
   "pygments_lexer": "ipython3",
   "version": "3.7.3"
  }
 },
 "nbformat": 4,
 "nbformat_minor": 2
}
